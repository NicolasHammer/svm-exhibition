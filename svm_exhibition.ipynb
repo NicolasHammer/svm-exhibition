{
    "cells": [
        {
            "cell_type": "markdown",
            "source": [
                "# Support Vector Machine Exhibition"
            ],
            "metadata": {}
        },
        {
            "cell_type": "code",
            "execution_count": 1,
            "source": [
                "# Import relevant packages\n",
                "import numpy as np\n",
                "import pandas as pd\n",
                "import matplotlib.pyplot as plt\n",
                "\n",
                "from sklearn.datasets import make_blobs\n",
                "from sklearn.model_selection import train_test_split\n",
                "from sklearn.svm import LinearSVC\n",
                "\n",
                "import from_scratch.split_data as split_data\n",
                "import from_scratch.svm as svm\n"
            ],
            "outputs": [],
            "metadata": {}
        },
        {
            "cell_type": "markdown",
            "source": [
                "# 2D Data"
            ],
            "metadata": {}
        },
        {
            "cell_type": "code",
            "execution_count": 2,
            "source": [
                "# Create data\n",
                "TwoDFeatures, TwoDTargets = make_blobs(\n",
                "    n_samples=200, n_features=2, centers=2, cluster_std=2)\n",
                "\n",
                "ClassA = TwoDTargets == 0\n",
                "TwoDTargets[ClassA] = -1\n",
                "plt.scatter(TwoDFeatures[ClassA, 0], TwoDFeatures[ClassA, 1], color=\"red\")\n",
                "\n",
                "ClassB = TwoDTargets == 1\n",
                "plt.scatter(TwoDFeatures[ClassB, 0], TwoDFeatures[ClassB, 1], color=\"blue\")\n",
                "\n",
                "plt.plot()\n"
            ],
            "outputs": [
                {
                    "output_type": "execute_result",
                    "data": {
                        "text/plain": [
                            "[]"
                        ]
                    },
                    "metadata": {},
                    "execution_count": 2
                },
                {
                    "output_type": "display_data",
                    "data": {
                        "text/plain": [
                            "<Figure size 432x288 with 1 Axes>"
                        ],
                        "image/png": "[encoded data removed]"
                    },
                    "metadata": {
                        "needs_background": "light"
                    }
                }
            ],
            "metadata": {}
        },
        {
            "cell_type": "markdown",
            "source": [
                "## From Scratch Implementation"
            ],
            "metadata": {}
        },
        {
            "cell_type": "code",
            "execution_count": 3,
            "source": [
                "# Add bias to features\n",
                "TwoDFeatures_modded = np.hstack(\n",
                "    (TwoDFeatures, np.ones((TwoDFeatures.shape[0], 1))))\n"
            ],
            "outputs": [],
            "metadata": {}
        },
        {
            "cell_type": "code",
            "execution_count": 4,
            "source": [
                "# Train/test split\n",
                "train_features, train_targets, test_features, test_targets = split_data.train_test_split(\n",
                "    TwoDFeatures_modded.T, TwoDTargets.reshape(1, TwoDTargets.shape[0]))\n"
            ],
            "outputs": [],
            "metadata": {}
        },
        {
            "cell_type": "code",
            "execution_count": 5,
            "source": [
                "# Train model\n",
                "svm_model = svm.SVM(train_features.shape[0])\n",
                "svm_model.fit(train_features, train_targets)\n"
            ],
            "outputs": [
                {
                    "output_type": "stream",
                    "name": "stdout",
                    "text": [
                        "| epoch 1 | loss 43.404475023858296\n",
                        "| epoch 2 | loss 56.21201211363469\n",
                        "| epoch 4 | loss 43.41479940406277\n",
                        "| epoch 8 | loss 0.24152943607469085\n",
                        "| epoch 16 | loss 0.24091191117869507\n"
                    ]
                }
            ],
            "metadata": {}
        },
        {
            "cell_type": "code",
            "execution_count": 6,
            "source": [
                "# Test model\n",
                "predictions = svm_model.predict(test_features)\n",
                "print(\n",
                "    f\"Accuray = {np.sum(predictions == test_targets)/predictions.shape[1] * 100 :2.3f}%\")\n"
            ],
            "outputs": [
                {
                    "output_type": "stream",
                    "name": "stdout",
                    "text": [
                        "Accuray = 100.000%\n"
                    ]
                }
            ],
            "metadata": {}
        },
        {
            "cell_type": "code",
            "execution_count": 7,
            "source": [
                "# Visualize model\n",
                "line = svm_model.weights.T\n",
                "w_0 = line[2]\n",
                "w_1 = line[0]\n",
                "w_2 = line[1]\n",
                "\n",
                "discriminator = -(w_1/w_2)*test_features[0, :] - (w_0/w_2)\n",
                "\n",
                "test_ClassA = test_targets[0, :] == -1\n",
                "plt.scatter(test_features[0, test_ClassA],\n",
                "            test_features[1, test_ClassA], color=\"red\")\n",
                "\n",
                "test_ClassB = test_targets[0, :] == 1\n",
                "plt.scatter(test_features[0, test_ClassB],\n",
                "            test_features[1, test_ClassB], color=\"blue\")\n",
                "\n",
                "plt.plot(test_features[0, :], discriminator, color=\"black\")\n",
                "plt.plot()\n"
            ],
            "outputs": [
                {
                    "output_type": "execute_result",
                    "data": {
                        "text/plain": [
                            "[]"
                        ]
                    },
                    "metadata": {},
                    "execution_count": 7
                },
                {
                    "output_type": "display_data",
                    "data": {
                        "text/plain": [
                            "<Figure size 432x288 with 1 Axes>"
                        ],
                        "image/png": "[encoded data removed]"
                    },
                    "metadata": {
                        "needs_background": "light"
                    }
                }
            ],
            "metadata": {}
        },
        {
            "cell_type": "markdown",
            "source": [
                "## Sklearn Implementation"
            ],
            "metadata": {}
        },
        {
            "cell_type": "code",
            "execution_count": 8,
            "source": [
                "# Train-test split\n",
                "train_features, test_features, train_targets, test_targets = train_test_split(\n",
                "    TwoDFeatures, TwoDTargets)\n"
            ],
            "outputs": [],
            "metadata": {}
        },
        {
            "cell_type": "code",
            "execution_count": 9,
            "source": [
                "# Train model\n",
                "linear_svm = LinearSVC(loss=\"hinge\", max_iter=5000)\n",
                "linear_svm.fit(train_features, train_targets)\n"
            ],
            "outputs": [
                {
                    "output_type": "execute_result",
                    "data": {
                        "text/plain": [
                            "LinearSVC(loss='hinge', max_iter=5000)"
                        ]
                    },
                    "metadata": {},
                    "execution_count": 9
                }
            ],
            "metadata": {}
        },
        {
            "cell_type": "code",
            "execution_count": 10,
            "source": [
                "# Test model\n",
                "predictions = linear_svm.predict(test_features)\n",
                "print(\n",
                "    f\"Accuray = {np.sum(predictions == test_targets)/predictions.shape[0] * 100 :2.3f}%\")\n"
            ],
            "outputs": [
                {
                    "output_type": "stream",
                    "name": "stdout",
                    "text": [
                        "Accuray = 100.000%\n"
                    ]
                }
            ],
            "metadata": {}
        },
        {
            "cell_type": "code",
            "execution_count": 11,
            "source": [
                "# Visualize model\n",
                "w_1 = linear_svm.coef_[0, 0]\n",
                "w_2 = linear_svm.coef_[0, 1]\n",
                "w_0 = linear_svm.intercept_[0]\n",
                "\n",
                "discriminator = -(w_1/w_2)*test_features[:, 0] - (w_0/w_2)\n",
                "\n",
                "test_ClassA = test_targets == -1\n",
                "plt.scatter(test_features[test_ClassA, 0],\n",
                "            test_features[test_ClassA, 1], color=\"red\")\n",
                "\n",
                "test_ClassB = test_targets == 1\n",
                "plt.scatter(test_features[test_ClassB, 0],\n",
                "            test_features[test_ClassB, 1], color=\"blue\")\n",
                "\n",
                "plt.plot(test_features[:, 0], discriminator, color=\"black\")\n",
                "plt.plot()\n"
            ],
            "outputs": [
                {
                    "output_type": "execute_result",
                    "data": {
                        "text/plain": [
                            "[]"
                        ]
                    },
                    "metadata": {},
                    "execution_count": 11
                },
                {
                    "output_type": "display_data",
                    "data": {
                        "text/plain": [
                            "<Figure size 432x288 with 1 Axes>"
                        ],
                        "image/png": "[encoded data removed]"
                    },
                    "metadata": {
                        "needs_background": "light"
                    }
                }
            ],
            "metadata": {}
        },
        {
            "cell_type": "markdown",
            "source": [
                "# Breast Cancer Data"
            ],
            "metadata": {}
        },
        {
            "cell_type": "code",
            "execution_count": 12,
            "source": [
                "# Load data\n",
                "original_data = pd.read_csv(\"data/breast_cancer.csv\", sep=',')\n",
                "original_data.head()\n"
            ],
            "outputs": [
                {
                    "output_type": "execute_result",
                    "data": {
                        "text/plain": [
                            "         id diagnosis  radius_mean  texture_mean  perimeter_mean  area_mean  \\\n",
                            "0    842302         M        17.99         10.38          122.80     1001.0   \n",
                            "1    842517         M        20.57         17.77          132.90     1326.0   \n",
                            "2  84300903         M        19.69         21.25          130.00     1203.0   \n",
                            "3  84348301         M        11.42         20.38           77.58      386.1   \n",
                            "4  84358402         M        20.29         14.34          135.10     1297.0   \n",
                            "\n",
                            "   smoothness_mean  compactness_mean  concavity_mean  concave points_mean  \\\n",
                            "0          0.11840           0.27760          0.3001              0.14710   \n",
                            "1          0.08474           0.07864          0.0869              0.07017   \n",
                            "2          0.10960           0.15990          0.1974              0.12790   \n",
                            "3          0.14250           0.28390          0.2414              0.10520   \n",
                            "4          0.10030           0.13280          0.1980              0.10430   \n",
                            "\n",
                            "   ...  texture_worst  perimeter_worst  area_worst  smoothness_worst  \\\n",
                            "0  ...          17.33           184.60      2019.0            0.1622   \n",
                            "1  ...          23.41           158.80      1956.0            0.1238   \n",
                            "2  ...          25.53           152.50      1709.0            0.1444   \n",
                            "3  ...          26.50            98.87       567.7            0.2098   \n",
                            "4  ...          16.67           152.20      1575.0            0.1374   \n",
                            "\n",
                            "   compactness_worst  concavity_worst  concave points_worst  symmetry_worst  \\\n",
                            "0             0.6656           0.7119                0.2654          0.4601   \n",
                            "1             0.1866           0.2416                0.1860          0.2750   \n",
                            "2             0.4245           0.4504                0.2430          0.3613   \n",
                            "3             0.8663           0.6869                0.2575          0.6638   \n",
                            "4             0.2050           0.4000                0.1625          0.2364   \n",
                            "\n",
                            "   fractal_dimension_worst  Unnamed: 32  \n",
                            "0                  0.11890          NaN  \n",
                            "1                  0.08902          NaN  \n",
                            "2                  0.08758          NaN  \n",
                            "3                  0.17300          NaN  \n",
                            "4                  0.07678          NaN  \n",
                            "\n",
                            "[5 rows x 33 columns]"
                        ],
                        "text/html": [
                            "<div>\n",
                            "<style scoped>\n",
                            "    .dataframe tbody tr th:only-of-type {\n",
                            "        vertical-align: middle;\n",
                            "    }\n",
                            "\n",
                            "    .dataframe tbody tr th {\n",
                            "        vertical-align: top;\n",
                            "    }\n",
                            "\n",
                            "    .dataframe thead th {\n",
                            "        text-align: right;\n",
                            "    }\n",
                            "</style>\n",
                            "<table border=\"1\" class=\"dataframe\">\n",
                            "  <thead>\n",
                            "    <tr style=\"text-align: right;\">\n",
                            "      <th></th>\n",
                            "      <th>id</th>\n",
                            "      <th>diagnosis</th>\n",
                            "      <th>radius_mean</th>\n",
                            "      <th>texture_mean</th>\n",
                            "      <th>perimeter_mean</th>\n",
                            "      <th>area_mean</th>\n",
                            "      <th>smoothness_mean</th>\n",
                            "      <th>compactness_mean</th>\n",
                            "      <th>concavity_mean</th>\n",
                            "      <th>concave points_mean</th>\n",
                            "      <th>...</th>\n",
                            "      <th>texture_worst</th>\n",
                            "      <th>perimeter_worst</th>\n",
                            "      <th>area_worst</th>\n",
                            "      <th>smoothness_worst</th>\n",
                            "      <th>compactness_worst</th>\n",
                            "      <th>concavity_worst</th>\n",
                            "      <th>concave points_worst</th>\n",
                            "      <th>symmetry_worst</th>\n",
                            "      <th>fractal_dimension_worst</th>\n",
                            "      <th>Unnamed: 32</th>\n",
                            "    </tr>\n",
                            "  </thead>\n",
                            "  <tbody>\n",
                            "    <tr>\n",
                            "      <th>0</th>\n",
                            "      <td>842302</td>\n",
                            "      <td>M</td>\n",
                            "      <td>17.99</td>\n",
                            "      <td>10.38</td>\n",
                            "      <td>122.80</td>\n",
                            "      <td>1001.0</td>\n",
                            "      <td>0.11840</td>\n",
                            "      <td>0.27760</td>\n",
                            "      <td>0.3001</td>\n",
                            "      <td>0.14710</td>\n",
                            "      <td>...</td>\n",
                            "      <td>17.33</td>\n",
                            "      <td>184.60</td>\n",
                            "      <td>2019.0</td>\n",
                            "      <td>0.1622</td>\n",
                            "      <td>0.6656</td>\n",
                            "      <td>0.7119</td>\n",
                            "      <td>0.2654</td>\n",
                            "      <td>0.4601</td>\n",
                            "      <td>0.11890</td>\n",
                            "      <td>NaN</td>\n",
                            "    </tr>\n",
                            "    <tr>\n",
                            "      <th>1</th>\n",
                            "      <td>842517</td>\n",
                            "      <td>M</td>\n",
                            "      <td>20.57</td>\n",
                            "      <td>17.77</td>\n",
                            "      <td>132.90</td>\n",
                            "      <td>1326.0</td>\n",
                            "      <td>0.08474</td>\n",
                            "      <td>0.07864</td>\n",
                            "      <td>0.0869</td>\n",
                            "      <td>0.07017</td>\n",
                            "      <td>...</td>\n",
                            "      <td>23.41</td>\n",
                            "      <td>158.80</td>\n",
                            "      <td>1956.0</td>\n",
                            "      <td>0.1238</td>\n",
                            "      <td>0.1866</td>\n",
                            "      <td>0.2416</td>\n",
                            "      <td>0.1860</td>\n",
                            "      <td>0.2750</td>\n",
                            "      <td>0.08902</td>\n",
                            "      <td>NaN</td>\n",
                            "    </tr>\n",
                            "    <tr>\n",
                            "      <th>2</th>\n",
                            "      <td>84300903</td>\n",
                            "      <td>M</td>\n",
                            "      <td>19.69</td>\n",
                            "      <td>21.25</td>\n",
                            "      <td>130.00</td>\n",
                            "      <td>1203.0</td>\n",
                            "      <td>0.10960</td>\n",
                            "      <td>0.15990</td>\n",
                            "      <td>0.1974</td>\n",
                            "      <td>0.12790</td>\n",
                            "      <td>...</td>\n",
                            "      <td>25.53</td>\n",
                            "      <td>152.50</td>\n",
                            "      <td>1709.0</td>\n",
                            "      <td>0.1444</td>\n",
                            "      <td>0.4245</td>\n",
                            "      <td>0.4504</td>\n",
                            "      <td>0.2430</td>\n",
                            "      <td>0.3613</td>\n",
                            "      <td>0.08758</td>\n",
                            "      <td>NaN</td>\n",
                            "    </tr>\n",
                            "    <tr>\n",
                            "      <th>3</th>\n",
                            "      <td>84348301</td>\n",
                            "      <td>M</td>\n",
                            "      <td>11.42</td>\n",
                            "      <td>20.38</td>\n",
                            "      <td>77.58</td>\n",
                            "      <td>386.1</td>\n",
                            "      <td>0.14250</td>\n",
                            "      <td>0.28390</td>\n",
                            "      <td>0.2414</td>\n",
                            "      <td>0.10520</td>\n",
                            "      <td>...</td>\n",
                            "      <td>26.50</td>\n",
                            "      <td>98.87</td>\n",
                            "      <td>567.7</td>\n",
                            "      <td>0.2098</td>\n",
                            "      <td>0.8663</td>\n",
                            "      <td>0.6869</td>\n",
                            "      <td>0.2575</td>\n",
                            "      <td>0.6638</td>\n",
                            "      <td>0.17300</td>\n",
                            "      <td>NaN</td>\n",
                            "    </tr>\n",
                            "    <tr>\n",
                            "      <th>4</th>\n",
                            "      <td>84358402</td>\n",
                            "      <td>M</td>\n",
                            "      <td>20.29</td>\n",
                            "      <td>14.34</td>\n",
                            "      <td>135.10</td>\n",
                            "      <td>1297.0</td>\n",
                            "      <td>0.10030</td>\n",
                            "      <td>0.13280</td>\n",
                            "      <td>0.1980</td>\n",
                            "      <td>0.10430</td>\n",
                            "      <td>...</td>\n",
                            "      <td>16.67</td>\n",
                            "      <td>152.20</td>\n",
                            "      <td>1575.0</td>\n",
                            "      <td>0.1374</td>\n",
                            "      <td>0.2050</td>\n",
                            "      <td>0.4000</td>\n",
                            "      <td>0.1625</td>\n",
                            "      <td>0.2364</td>\n",
                            "      <td>0.07678</td>\n",
                            "      <td>NaN</td>\n",
                            "    </tr>\n",
                            "  </tbody>\n",
                            "</table>\n",
                            "<p>5 rows × 33 columns</p>\n",
                            "</div>"
                        ]
                    },
                    "metadata": {},
                    "execution_count": 12
                }
            ],
            "metadata": {}
        },
        {
            "cell_type": "code",
            "execution_count": 13,
            "source": [
                "# Clean data\n",
                "diagnosis_map = {'M': 1, 'B': - 1}\n",
                "original_data[\"diagnosis\"] = original_data[\"diagnosis\"].map(diagnosis_map)\n",
                "original_data.drop(original_data.columns[[-1, 0]], axis=1,  inplace=True)\n",
                "original_data.head()\n"
            ],
            "outputs": [
                {
                    "output_type": "execute_result",
                    "data": {
                        "text/plain": [
                            "   diagnosis  radius_mean  texture_mean  perimeter_mean  area_mean  \\\n",
                            "0          1        17.99         10.38          122.80     1001.0   \n",
                            "1          1        20.57         17.77          132.90     1326.0   \n",
                            "2          1        19.69         21.25          130.00     1203.0   \n",
                            "3          1        11.42         20.38           77.58      386.1   \n",
                            "4          1        20.29         14.34          135.10     1297.0   \n",
                            "\n",
                            "   smoothness_mean  compactness_mean  concavity_mean  concave points_mean  \\\n",
                            "0          0.11840           0.27760          0.3001              0.14710   \n",
                            "1          0.08474           0.07864          0.0869              0.07017   \n",
                            "2          0.10960           0.15990          0.1974              0.12790   \n",
                            "3          0.14250           0.28390          0.2414              0.10520   \n",
                            "4          0.10030           0.13280          0.1980              0.10430   \n",
                            "\n",
                            "   symmetry_mean  ...  radius_worst  texture_worst  perimeter_worst  \\\n",
                            "0         0.2419  ...         25.38          17.33           184.60   \n",
                            "1         0.1812  ...         24.99          23.41           158.80   \n",
                            "2         0.2069  ...         23.57          25.53           152.50   \n",
                            "3         0.2597  ...         14.91          26.50            98.87   \n",
                            "4         0.1809  ...         22.54          16.67           152.20   \n",
                            "\n",
                            "   area_worst  smoothness_worst  compactness_worst  concavity_worst  \\\n",
                            "0      2019.0            0.1622             0.6656           0.7119   \n",
                            "1      1956.0            0.1238             0.1866           0.2416   \n",
                            "2      1709.0            0.1444             0.4245           0.4504   \n",
                            "3       567.7            0.2098             0.8663           0.6869   \n",
                            "4      1575.0            0.1374             0.2050           0.4000   \n",
                            "\n",
                            "   concave points_worst  symmetry_worst  fractal_dimension_worst  \n",
                            "0                0.2654          0.4601                  0.11890  \n",
                            "1                0.1860          0.2750                  0.08902  \n",
                            "2                0.2430          0.3613                  0.08758  \n",
                            "3                0.2575          0.6638                  0.17300  \n",
                            "4                0.1625          0.2364                  0.07678  \n",
                            "\n",
                            "[5 rows x 31 columns]"
                        ],
                        "text/html": [
                            "<div>\n",
                            "<style scoped>\n",
                            "    .dataframe tbody tr th:only-of-type {\n",
                            "        vertical-align: middle;\n",
                            "    }\n",
                            "\n",
                            "    .dataframe tbody tr th {\n",
                            "        vertical-align: top;\n",
                            "    }\n",
                            "\n",
                            "    .dataframe thead th {\n",
                            "        text-align: right;\n",
                            "    }\n",
                            "</style>\n",
                            "<table border=\"1\" class=\"dataframe\">\n",
                            "  <thead>\n",
                            "    <tr style=\"text-align: right;\">\n",
                            "      <th></th>\n",
                            "      <th>diagnosis</th>\n",
                            "      <th>radius_mean</th>\n",
                            "      <th>texture_mean</th>\n",
                            "      <th>perimeter_mean</th>\n",
                            "      <th>area_mean</th>\n",
                            "      <th>smoothness_mean</th>\n",
                            "      <th>compactness_mean</th>\n",
                            "      <th>concavity_mean</th>\n",
                            "      <th>concave points_mean</th>\n",
                            "      <th>symmetry_mean</th>\n",
                            "      <th>...</th>\n",
                            "      <th>radius_worst</th>\n",
                            "      <th>texture_worst</th>\n",
                            "      <th>perimeter_worst</th>\n",
                            "      <th>area_worst</th>\n",
                            "      <th>smoothness_worst</th>\n",
                            "      <th>compactness_worst</th>\n",
                            "      <th>concavity_worst</th>\n",
                            "      <th>concave points_worst</th>\n",
                            "      <th>symmetry_worst</th>\n",
                            "      <th>fractal_dimension_worst</th>\n",
                            "    </tr>\n",
                            "  </thead>\n",
                            "  <tbody>\n",
                            "    <tr>\n",
                            "      <th>0</th>\n",
                            "      <td>1</td>\n",
                            "      <td>17.99</td>\n",
                            "      <td>10.38</td>\n",
                            "      <td>122.80</td>\n",
                            "      <td>1001.0</td>\n",
                            "      <td>0.11840</td>\n",
                            "      <td>0.27760</td>\n",
                            "      <td>0.3001</td>\n",
                            "      <td>0.14710</td>\n",
                            "      <td>0.2419</td>\n",
                            "      <td>...</td>\n",
                            "      <td>25.38</td>\n",
                            "      <td>17.33</td>\n",
                            "      <td>184.60</td>\n",
                            "      <td>2019.0</td>\n",
                            "      <td>0.1622</td>\n",
                            "      <td>0.6656</td>\n",
                            "      <td>0.7119</td>\n",
                            "      <td>0.2654</td>\n",
                            "      <td>0.4601</td>\n",
                            "      <td>0.11890</td>\n",
                            "    </tr>\n",
                            "    <tr>\n",
                            "      <th>1</th>\n",
                            "      <td>1</td>\n",
                            "      <td>20.57</td>\n",
                            "      <td>17.77</td>\n",
                            "      <td>132.90</td>\n",
                            "      <td>1326.0</td>\n",
                            "      <td>0.08474</td>\n",
                            "      <td>0.07864</td>\n",
                            "      <td>0.0869</td>\n",
                            "      <td>0.07017</td>\n",
                            "      <td>0.1812</td>\n",
                            "      <td>...</td>\n",
                            "      <td>24.99</td>\n",
                            "      <td>23.41</td>\n",
                            "      <td>158.80</td>\n",
                            "      <td>1956.0</td>\n",
                            "      <td>0.1238</td>\n",
                            "      <td>0.1866</td>\n",
                            "      <td>0.2416</td>\n",
                            "      <td>0.1860</td>\n",
                            "      <td>0.2750</td>\n",
                            "      <td>0.08902</td>\n",
                            "    </tr>\n",
                            "    <tr>\n",
                            "      <th>2</th>\n",
                            "      <td>1</td>\n",
                            "      <td>19.69</td>\n",
                            "      <td>21.25</td>\n",
                            "      <td>130.00</td>\n",
                            "      <td>1203.0</td>\n",
                            "      <td>0.10960</td>\n",
                            "      <td>0.15990</td>\n",
                            "      <td>0.1974</td>\n",
                            "      <td>0.12790</td>\n",
                            "      <td>0.2069</td>\n",
                            "      <td>...</td>\n",
                            "      <td>23.57</td>\n",
                            "      <td>25.53</td>\n",
                            "      <td>152.50</td>\n",
                            "      <td>1709.0</td>\n",
                            "      <td>0.1444</td>\n",
                            "      <td>0.4245</td>\n",
                            "      <td>0.4504</td>\n",
                            "      <td>0.2430</td>\n",
                            "      <td>0.3613</td>\n",
                            "      <td>0.08758</td>\n",
                            "    </tr>\n",
                            "    <tr>\n",
                            "      <th>3</th>\n",
                            "      <td>1</td>\n",
                            "      <td>11.42</td>\n",
                            "      <td>20.38</td>\n",
                            "      <td>77.58</td>\n",
                            "      <td>386.1</td>\n",
                            "      <td>0.14250</td>\n",
                            "      <td>0.28390</td>\n",
                            "      <td>0.2414</td>\n",
                            "      <td>0.10520</td>\n",
                            "      <td>0.2597</td>\n",
                            "      <td>...</td>\n",
                            "      <td>14.91</td>\n",
                            "      <td>26.50</td>\n",
                            "      <td>98.87</td>\n",
                            "      <td>567.7</td>\n",
                            "      <td>0.2098</td>\n",
                            "      <td>0.8663</td>\n",
                            "      <td>0.6869</td>\n",
                            "      <td>0.2575</td>\n",
                            "      <td>0.6638</td>\n",
                            "      <td>0.17300</td>\n",
                            "    </tr>\n",
                            "    <tr>\n",
                            "      <th>4</th>\n",
                            "      <td>1</td>\n",
                            "      <td>20.29</td>\n",
                            "      <td>14.34</td>\n",
                            "      <td>135.10</td>\n",
                            "      <td>1297.0</td>\n",
                            "      <td>0.10030</td>\n",
                            "      <td>0.13280</td>\n",
                            "      <td>0.1980</td>\n",
                            "      <td>0.10430</td>\n",
                            "      <td>0.1809</td>\n",
                            "      <td>...</td>\n",
                            "      <td>22.54</td>\n",
                            "      <td>16.67</td>\n",
                            "      <td>152.20</td>\n",
                            "      <td>1575.0</td>\n",
                            "      <td>0.1374</td>\n",
                            "      <td>0.2050</td>\n",
                            "      <td>0.4000</td>\n",
                            "      <td>0.1625</td>\n",
                            "      <td>0.2364</td>\n",
                            "      <td>0.07678</td>\n",
                            "    </tr>\n",
                            "  </tbody>\n",
                            "</table>\n",
                            "<p>5 rows × 31 columns</p>\n",
                            "</div>"
                        ]
                    },
                    "metadata": {},
                    "execution_count": 13
                }
            ],
            "metadata": {}
        },
        {
            "cell_type": "code",
            "execution_count": 14,
            "source": [
                "# Split into features and targets and normalize\n",
                "Y = original_data.loc[:, \"diagnosis\"]\n",
                "X = original_data.iloc[:, 1:]\n",
                "\n",
                "X_normalized = (X - X.min())/(X.max() - X.min())\n",
                "X_norm_copy = X_normalized.copy()\n",
                "X_normalized.head()"
            ],
            "outputs": [
                {
                    "output_type": "execute_result",
                    "data": {
                        "text/plain": [
                            "   radius_mean  texture_mean  perimeter_mean  area_mean  smoothness_mean  \\\n",
                            "0     0.521037      0.022658        0.545989   0.363733         0.593753   \n",
                            "1     0.643144      0.272574        0.615783   0.501591         0.289880   \n",
                            "2     0.601496      0.390260        0.595743   0.449417         0.514309   \n",
                            "3     0.210090      0.360839        0.233501   0.102906         0.811321   \n",
                            "4     0.629893      0.156578        0.630986   0.489290         0.430351   \n",
                            "\n",
                            "   compactness_mean  concavity_mean  concave points_mean  symmetry_mean  \\\n",
                            "0          0.792037        0.703140             0.731113       0.686364   \n",
                            "1          0.181768        0.203608             0.348757       0.379798   \n",
                            "2          0.431017        0.462512             0.635686       0.509596   \n",
                            "3          0.811361        0.565604             0.522863       0.776263   \n",
                            "4          0.347893        0.463918             0.518390       0.378283   \n",
                            "\n",
                            "   fractal_dimension_mean  ...  radius_worst  texture_worst  perimeter_worst  \\\n",
                            "0                0.605518  ...      0.620776       0.141525         0.668310   \n",
                            "1                0.141323  ...      0.606901       0.303571         0.539818   \n",
                            "2                0.211247  ...      0.556386       0.360075         0.508442   \n",
                            "3                1.000000  ...      0.248310       0.385928         0.241347   \n",
                            "4                0.186816  ...      0.519744       0.123934         0.506948   \n",
                            "\n",
                            "   area_worst  smoothness_worst  compactness_worst  concavity_worst  \\\n",
                            "0    0.450698          0.601136           0.619292         0.568610   \n",
                            "1    0.435214          0.347553           0.154563         0.192971   \n",
                            "2    0.374508          0.483590           0.385375         0.359744   \n",
                            "3    0.094008          0.915472           0.814012         0.548642   \n",
                            "4    0.341575          0.437364           0.172415         0.319489   \n",
                            "\n",
                            "   concave points_worst  symmetry_worst  fractal_dimension_worst  \n",
                            "0              0.912027        0.598462                 0.418864  \n",
                            "1              0.639175        0.233590                 0.222878  \n",
                            "2              0.835052        0.403706                 0.213433  \n",
                            "3              0.884880        1.000000                 0.773711  \n",
                            "4              0.558419        0.157500                 0.142595  \n",
                            "\n",
                            "[5 rows x 30 columns]"
                        ],
                        "text/html": [
                            "<div>\n",
                            "<style scoped>\n",
                            "    .dataframe tbody tr th:only-of-type {\n",
                            "        vertical-align: middle;\n",
                            "    }\n",
                            "\n",
                            "    .dataframe tbody tr th {\n",
                            "        vertical-align: top;\n",
                            "    }\n",
                            "\n",
                            "    .dataframe thead th {\n",
                            "        text-align: right;\n",
                            "    }\n",
                            "</style>\n",
                            "<table border=\"1\" class=\"dataframe\">\n",
                            "  <thead>\n",
                            "    <tr style=\"text-align: right;\">\n",
                            "      <th></th>\n",
                            "      <th>radius_mean</th>\n",
                            "      <th>texture_mean</th>\n",
                            "      <th>perimeter_mean</th>\n",
                            "      <th>area_mean</th>\n",
                            "      <th>smoothness_mean</th>\n",
                            "      <th>compactness_mean</th>\n",
                            "      <th>concavity_mean</th>\n",
                            "      <th>concave points_mean</th>\n",
                            "      <th>symmetry_mean</th>\n",
                            "      <th>fractal_dimension_mean</th>\n",
                            "      <th>...</th>\n",
                            "      <th>radius_worst</th>\n",
                            "      <th>texture_worst</th>\n",
                            "      <th>perimeter_worst</th>\n",
                            "      <th>area_worst</th>\n",
                            "      <th>smoothness_worst</th>\n",
                            "      <th>compactness_worst</th>\n",
                            "      <th>concavity_worst</th>\n",
                            "      <th>concave points_worst</th>\n",
                            "      <th>symmetry_worst</th>\n",
                            "      <th>fractal_dimension_worst</th>\n",
                            "    </tr>\n",
                            "  </thead>\n",
                            "  <tbody>\n",
                            "    <tr>\n",
                            "      <th>0</th>\n",
                            "      <td>0.521037</td>\n",
                            "      <td>0.022658</td>\n",
                            "      <td>0.545989</td>\n",
                            "      <td>0.363733</td>\n",
                            "      <td>0.593753</td>\n",
                            "      <td>0.792037</td>\n",
                            "      <td>0.703140</td>\n",
                            "      <td>0.731113</td>\n",
                            "      <td>0.686364</td>\n",
                            "      <td>0.605518</td>\n",
                            "      <td>...</td>\n",
                            "      <td>0.620776</td>\n",
                            "      <td>0.141525</td>\n",
                            "      <td>0.668310</td>\n",
                            "      <td>0.450698</td>\n",
                            "      <td>0.601136</td>\n",
                            "      <td>0.619292</td>\n",
                            "      <td>0.568610</td>\n",
                            "      <td>0.912027</td>\n",
                            "      <td>0.598462</td>\n",
                            "      <td>0.418864</td>\n",
                            "    </tr>\n",
                            "    <tr>\n",
                            "      <th>1</th>\n",
                            "      <td>0.643144</td>\n",
                            "      <td>0.272574</td>\n",
                            "      <td>0.615783</td>\n",
                            "      <td>0.501591</td>\n",
                            "      <td>0.289880</td>\n",
                            "      <td>0.181768</td>\n",
                            "      <td>0.203608</td>\n",
                            "      <td>0.348757</td>\n",
                            "      <td>0.379798</td>\n",
                            "      <td>0.141323</td>\n",
                            "      <td>...</td>\n",
                            "      <td>0.606901</td>\n",
                            "      <td>0.303571</td>\n",
                            "      <td>0.539818</td>\n",
                            "      <td>0.435214</td>\n",
                            "      <td>0.347553</td>\n",
                            "      <td>0.154563</td>\n",
                            "      <td>0.192971</td>\n",
                            "      <td>0.639175</td>\n",
                            "      <td>0.233590</td>\n",
                            "      <td>0.222878</td>\n",
                            "    </tr>\n",
                            "    <tr>\n",
                            "      <th>2</th>\n",
                            "      <td>0.601496</td>\n",
                            "      <td>0.390260</td>\n",
                            "      <td>0.595743</td>\n",
                            "      <td>0.449417</td>\n",
                            "      <td>0.514309</td>\n",
                            "      <td>0.431017</td>\n",
                            "      <td>0.462512</td>\n",
                            "      <td>0.635686</td>\n",
                            "      <td>0.509596</td>\n",
                            "      <td>0.211247</td>\n",
                            "      <td>...</td>\n",
                            "      <td>0.556386</td>\n",
                            "      <td>0.360075</td>\n",
                            "      <td>0.508442</td>\n",
                            "      <td>0.374508</td>\n",
                            "      <td>0.483590</td>\n",
                            "      <td>0.385375</td>\n",
                            "      <td>0.359744</td>\n",
                            "      <td>0.835052</td>\n",
                            "      <td>0.403706</td>\n",
                            "      <td>0.213433</td>\n",
                            "    </tr>\n",
                            "    <tr>\n",
                            "      <th>3</th>\n",
                            "      <td>0.210090</td>\n",
                            "      <td>0.360839</td>\n",
                            "      <td>0.233501</td>\n",
                            "      <td>0.102906</td>\n",
                            "      <td>0.811321</td>\n",
                            "      <td>0.811361</td>\n",
                            "      <td>0.565604</td>\n",
                            "      <td>0.522863</td>\n",
                            "      <td>0.776263</td>\n",
                            "      <td>1.000000</td>\n",
                            "      <td>...</td>\n",
                            "      <td>0.248310</td>\n",
                            "      <td>0.385928</td>\n",
                            "      <td>0.241347</td>\n",
                            "      <td>0.094008</td>\n",
                            "      <td>0.915472</td>\n",
                            "      <td>0.814012</td>\n",
                            "      <td>0.548642</td>\n",
                            "      <td>0.884880</td>\n",
                            "      <td>1.000000</td>\n",
                            "      <td>0.773711</td>\n",
                            "    </tr>\n",
                            "    <tr>\n",
                            "      <th>4</th>\n",
                            "      <td>0.629893</td>\n",
                            "      <td>0.156578</td>\n",
                            "      <td>0.630986</td>\n",
                            "      <td>0.489290</td>\n",
                            "      <td>0.430351</td>\n",
                            "      <td>0.347893</td>\n",
                            "      <td>0.463918</td>\n",
                            "      <td>0.518390</td>\n",
                            "      <td>0.378283</td>\n",
                            "      <td>0.186816</td>\n",
                            "      <td>...</td>\n",
                            "      <td>0.519744</td>\n",
                            "      <td>0.123934</td>\n",
                            "      <td>0.506948</td>\n",
                            "      <td>0.341575</td>\n",
                            "      <td>0.437364</td>\n",
                            "      <td>0.172415</td>\n",
                            "      <td>0.319489</td>\n",
                            "      <td>0.558419</td>\n",
                            "      <td>0.157500</td>\n",
                            "      <td>0.142595</td>\n",
                            "    </tr>\n",
                            "  </tbody>\n",
                            "</table>\n",
                            "<p>5 rows × 30 columns</p>\n",
                            "</div>"
                        ]
                    },
                    "metadata": {},
                    "execution_count": 14
                }
            ],
            "metadata": {}
        },
        {
            "cell_type": "markdown",
            "source": [
                "## From Scratch Implementation"
            ],
            "metadata": {}
        },
        {
            "cell_type": "code",
            "execution_count": 15,
            "source": [
                "# Train/test split\n",
                "X_normalized.insert(loc=len(X_norm_copy.columns),\n",
                "                    column=\"intercept\", value=1)  # add bias to features\n",
                "\n",
                "train_features, train_targets, test_features, test_targets = split_data.train_test_split(\n",
                "    X_norm_copy.values.T, Y.values.reshape((1, Y.shape[0])))\n"
            ],
            "outputs": [],
            "metadata": {}
        },
        {
            "cell_type": "code",
            "execution_count": 16,
            "source": [
                "# Train model\n",
                "svm_model = svm.SVM(train_features.shape[0])\n",
                "svm_model.fit(train_features, train_targets)\n"
            ],
            "outputs": [
                {
                    "output_type": "stream",
                    "name": "stdout",
                    "text": [
                        "| epoch 1 | loss 5662.295729274535\n",
                        "| epoch 2 | loss 4822.414120522278\n",
                        "| epoch 4 | loss 4197.711667808363\n",
                        "| epoch 8 | loss 3502.3427582212094\n",
                        "| epoch 16 | loss 3009.0556860916427\n",
                        "| epoch 32 | loss 2467.468005128708\n",
                        "| epoch 64 | loss 1952.5582127023795\n",
                        "| epoch 128 | loss 1589.2880622601217\n",
                        "| epoch 256 | loss 1346.2284097933614\n",
                        "| epoch 512 | loss 1239.6275586105394\n",
                        "| epoch 1024 | loss 1179.713417141464\n",
                        "| epoch 2048 | loss 1152.0564300662634\n",
                        "| epoch 4096 | loss 1159.365498416956\n"
                    ]
                }
            ],
            "metadata": {}
        },
        {
            "cell_type": "code",
            "execution_count": 17,
            "source": [
                "# Test model\n",
                "predictions = svm_model.predict(test_features)\n",
                "print(\n",
                "    f\"Accuray = {np.sum(predictions == test_targets)/predictions.shape[1] * 100 :2.3f}%\")\n"
            ],
            "outputs": [
                {
                    "output_type": "stream",
                    "name": "stdout",
                    "text": [
                        "Accuray = 96.491%\n"
                    ]
                }
            ],
            "metadata": {}
        },
        {
            "cell_type": "markdown",
            "source": [
                "## Sklearn Implementation"
            ],
            "metadata": {}
        },
        {
            "cell_type": "code",
            "execution_count": 18,
            "source": [
                "# Train-test split\n",
                "train_features, test_features, train_targets, test_targets = train_test_split(\n",
                "    X_normalized.values, Y)\n"
            ],
            "outputs": [],
            "metadata": {}
        },
        {
            "cell_type": "code",
            "execution_count": 19,
            "source": [
                "# Train model\n",
                "linear_svm = LinearSVC(loss=\"hinge\", max_iter=5000)\n",
                "linear_svm.fit(train_features, train_targets, )\n"
            ],
            "outputs": [
                {
                    "output_type": "execute_result",
                    "data": {
                        "text/plain": [
                            "LinearSVC(loss='hinge', max_iter=5000)"
                        ]
                    },
                    "metadata": {},
                    "execution_count": 19
                }
            ],
            "metadata": {}
        },
        {
            "cell_type": "code",
            "execution_count": 20,
            "source": [
                "# Test model\n",
                "predictions = linear_svm.predict(test_features)\n",
                "print(\n",
                "    f\"Accuray = {np.sum(predictions == test_targets)/predictions.shape[0] * 100 :2.3f}%\")\n"
            ],
            "outputs": [
                {
                    "output_type": "stream",
                    "name": "stdout",
                    "text": [
                        "Accuray = 97.902%\n"
                    ]
                }
            ],
            "metadata": {}
        }
    ],
    "metadata": {
        "orig_nbformat": 4,
        "language_info": {
            "name": "python",
            "version": "3.9.6",
            "mimetype": "text/x-python",
            "codemirror_mode": {
                "name": "ipython",
                "version": 3
            },
            "pygments_lexer": "ipython3",
            "nbconvert_exporter": "python",
            "file_extension": ".py"
        },
        "kernelspec": {
            "name": "python3",
            "display_name": "Python 3.9.6 64-bit"
        },
        "interpreter": {
            "hash": "397704579725e15f5c7cb49fe5f0341eb7531c82d19f2c29d197e8b64ab5776b"
        }
    },
    "nbformat": 4,
    "nbformat_minor": 2
}