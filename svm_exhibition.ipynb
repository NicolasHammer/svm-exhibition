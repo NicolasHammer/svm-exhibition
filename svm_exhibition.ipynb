{
    "cells": [
        {
            "cell_type": "markdown",
            "source": [
                "# Support Vector Machine Exhibition"
            ],
            "metadata": {}
        },
        {
            "cell_type": "code",
            "execution_count": null,
            "source": [
                "# Import relevant packages\n",
                "import numpy as np\n",
                "import pandas as pd\n",
                "import matplotlib.pyplot as plt\n",
                "\n",
                "from sklearn.datasets import make_blobs\n",
                "from sklearn.model_selection import train_test_split\n",
                "from sklearn.svm import LinearSVC\n",
                "\n",
                "import from_scratch.split_data as split_data\n",
                "import from_scratch.svm as svm\n"
            ],
            "outputs": [],
            "metadata": {}
        },
        {
            "cell_type": "markdown",
            "source": [
                "# 2D Data"
            ],
            "metadata": {}
        },
        {
            "cell_type": "code",
            "execution_count": null,
            "source": [
                "# Create data\n",
                "TwoDFeatures, TwoDTargets = make_blobs(\n",
                "    n_samples=200, n_features=2, centers=2, cluster_std=2)\n",
                "\n",
                "ClassA = TwoDTargets == 0\n",
                "TwoDTargets[ClassA] = -1\n",
                "plt.scatter(TwoDFeatures[ClassA, 0], TwoDFeatures[ClassA, 1], color=\"red\")\n",
                "\n",
                "ClassB = TwoDTargets == 1\n",
                "plt.scatter(TwoDFeatures[ClassB, 0], TwoDFeatures[ClassB, 1], color=\"blue\")\n",
                "\n",
                "plt.plot()\n"
            ],
            "outputs": [],
            "metadata": {}
        },
        {
            "cell_type": "markdown",
            "source": [
                "## From Scratch Implementation"
            ],
            "metadata": {}
        },
        {
            "cell_type": "code",
            "execution_count": null,
            "source": [
                "# Add bias to features\n",
                "TwoDFeatures_modded = np.hstack(\n",
                "    (TwoDFeatures, np.ones((TwoDFeatures.shape[0], 1))))\n"
            ],
            "outputs": [],
            "metadata": {}
        },
        {
            "cell_type": "code",
            "execution_count": null,
            "source": [
                "# Train/test split\n",
                "train_features, train_targets, test_features, test_targets = split_data.train_test_split(\n",
                "    TwoDFeatures_modded.T, TwoDTargets.reshape(1, TwoDTargets.shape[0]))\n"
            ],
            "outputs": [],
            "metadata": {}
        },
        {
            "cell_type": "code",
            "execution_count": null,
            "source": [
                "# Train model\n",
                "svm_model = svm.SVM(train_features.shape[0])\n",
                "svm_model.fit(train_features, train_targets)\n"
            ],
            "outputs": [],
            "metadata": {}
        },
        {
            "cell_type": "code",
            "execution_count": null,
            "source": [
                "# Test model\n",
                "predictions = svm_model.predict(test_features)\n",
                "print(\n",
                "    f\"Accuray = {np.sum(predictions == test_targets)/predictions.shape[1] * 100 :2.3f}%\")\n"
            ],
            "outputs": [],
            "metadata": {}
        },
        {
            "cell_type": "code",
            "execution_count": null,
            "source": [
                "# Visualize model\n",
                "line = svm_model.weights.T\n",
                "w_0 = line[2]\n",
                "w_1 = line[0]\n",
                "w_2 = line[1]\n",
                "\n",
                "discriminator = -(w_1/w_2)*test_features[0, :] - (w_0/w_2)\n",
                "\n",
                "test_ClassA = test_targets[0, :] == -1\n",
                "plt.scatter(test_features[0, test_ClassA],\n",
                "            test_features[1, test_ClassA], color=\"red\")\n",
                "\n",
                "test_ClassB = test_targets[0, :] == 1\n",
                "plt.scatter(test_features[0, test_ClassB],\n",
                "            test_features[1, test_ClassB], color=\"blue\")\n",
                "\n",
                "plt.plot(test_features[0, :], discriminator, color=\"black\")\n",
                "plt.plot()\n"
            ],
            "outputs": [],
            "metadata": {}
        },
        {
            "cell_type": "markdown",
            "source": [
                "## Sklearn Implementation"
            ],
            "metadata": {}
        },
        {
            "cell_type": "code",
            "execution_count": null,
            "source": [
                "# Train-test split\n",
                "train_features, test_features, train_targets, test_targets = train_test_split(\n",
                "    TwoDFeatures, TwoDTargets)\n"
            ],
            "outputs": [],
            "metadata": {}
        },
        {
            "cell_type": "code",
            "execution_count": null,
            "source": [
                "# Train model\n",
                "linear_svm = LinearSVC(loss=\"hinge\", max_iter=5000)\n",
                "linear_svm.fit(train_features, train_targets)\n"
            ],
            "outputs": [],
            "metadata": {}
        },
        {
            "cell_type": "code",
            "execution_count": null,
            "source": [
                "# Test model\n",
                "predictions = linear_svm.predict(test_features)\n",
                "print(\n",
                "    f\"Accuray = {np.sum(predictions == test_targets)/predictions.shape[0] * 100 :2.3f}%\")\n"
            ],
            "outputs": [],
            "metadata": {}
        },
        {
            "cell_type": "code",
            "execution_count": null,
            "source": [
                "# Visualize model\n",
                "w_1 = linear_svm.coef_[0, 0]\n",
                "w_2 = linear_svm.coef_[0, 1]\n",
                "w_0 = linear_svm.intercept_[0]\n",
                "\n",
                "discriminator = -(w_1/w_2)*test_features[:, 0] - (w_0/w_2)\n",
                "\n",
                "test_ClassA = test_targets == -1\n",
                "plt.scatter(test_features[test_ClassA, 0],\n",
                "            test_features[test_ClassA, 1], color=\"red\")\n",
                "\n",
                "test_ClassB = test_targets == 1\n",
                "plt.scatter(test_features[test_ClassB, 0],\n",
                "            test_features[test_ClassB, 1], color=\"blue\")\n",
                "\n",
                "plt.plot(test_features[:, 0], discriminator, color=\"black\")\n",
                "plt.plot()\n"
            ],
            "outputs": [],
            "metadata": {}
        },
        {
            "cell_type": "markdown",
            "source": [
                "# Breast Cancer Data"
            ],
            "metadata": {}
        },
        {
            "cell_type": "code",
            "execution_count": null,
            "source": [
                "# Load data\n",
                "original_data = pd.read_csv(\"data/breast_cancer.csv\", sep=',')\n",
                "original_data.head()\n"
            ],
            "outputs": [],
            "metadata": {}
        },
        {
            "cell_type": "code",
            "execution_count": null,
            "source": [
                "# Clean data\n",
                "diagnosis_map = {'M': 1, 'B': - 1}\n",
                "original_data[\"diagnosis\"] = original_data[\"diagnosis\"].map(diagnosis_map)\n",
                "original_data.drop(original_data.columns[[-1, 0]], axis=1,  inplace=True)\n",
                "original_data.head()\n"
            ],
            "outputs": [],
            "metadata": {}
        },
        {
            "cell_type": "code",
            "execution_count": null,
            "source": [
                "# Split into features and targets and normalize\n",
                "Y = original_data.loc[:, \"diagnosis\"]\n",
                "X = original_data.iloc[:, 1:]\n",
                "\n",
                "X_normalized = (X - X.min())/(X.max() - X.min())\n",
                "X_norm_copy = X_normalized.copy()\n",
                "X_normalized.head()"
            ],
            "outputs": [],
            "metadata": {}
        },
        {
            "cell_type": "markdown",
            "source": [
                "## From Scratch Implementation"
            ],
            "metadata": {}
        },
        {
            "cell_type": "code",
            "execution_count": null,
            "source": [
                "# Train/test split\n",
                "X_normalized.insert(loc=len(X_norm_copy.columns),\n",
                "                    column=\"intercept\", value=1)  # add bias to features\n",
                "\n",
                "train_features, train_targets, test_features, test_targets = split_data.train_test_split(\n",
                "    X_norm_copy.values.T, Y.values.reshape((1, Y.shape[0])))\n"
            ],
            "outputs": [],
            "metadata": {}
        },
        {
            "cell_type": "code",
            "execution_count": null,
            "source": [
                "# Train model\n",
                "svm_model = svm.SVM(train_features.shape[0])\n",
                "svm_model.fit(train_features, train_targets)\n"
            ],
            "outputs": [],
            "metadata": {}
        },
        {
            "cell_type": "code",
            "execution_count": null,
            "source": [
                "# Test model\n",
                "predictions = svm_model.predict(test_features)\n",
                "print(\n",
                "    f\"Accuray = {np.sum(predictions == test_targets)/predictions.shape[1] * 100 :2.3f}%\")\n"
            ],
            "outputs": [],
            "metadata": {}
        },
        {
            "cell_type": "markdown",
            "source": [
                "## Sklearn Implementation"
            ],
            "metadata": {}
        },
        {
            "cell_type": "code",
            "execution_count": null,
            "source": [
                "# Train-test split\n",
                "train_features, test_features, train_targets, test_targets = train_test_split(\n",
                "    X_normalized.values, Y)\n"
            ],
            "outputs": [],
            "metadata": {}
        },
        {
            "cell_type": "code",
            "execution_count": null,
            "source": [
                "# Train model\n",
                "linear_svm = LinearSVC(loss=\"hinge\", max_iter=5000)\n",
                "linear_svm.fit(train_features, train_targets, )\n"
            ],
            "outputs": [],
            "metadata": {}
        },
        {
            "cell_type": "code",
            "execution_count": null,
            "source": [
                "# Test model\n",
                "predictions = linear_svm.predict(test_features)\n",
                "print(\n",
                "    f\"Accuray = {np.sum(predictions == test_targets)/predictions.shape[0] * 100 :2.3f}%\")\n"
            ],
            "outputs": [],
            "metadata": {}
        }
    ],
    "metadata": {
        "orig_nbformat": 4,
        "language_info": {
            "name": "python",
            "version": "3.9.6",
            "mimetype": "text/x-python",
            "codemirror_mode": {
                "name": "ipython",
                "version": 3
            },
            "pygments_lexer": "ipython3",
            "nbconvert_exporter": "python",
            "file_extension": ".py"
        },
        "kernelspec": {
            "name": "python3",
            "display_name": "Python 3.9.6 64-bit"
        },
        "interpreter": {
            "hash": "397704579725e15f5c7cb49fe5f0341eb7531c82d19f2c29d197e8b64ab5776b"
        }
    },
    "nbformat": 4,
    "nbformat_minor": 2
}